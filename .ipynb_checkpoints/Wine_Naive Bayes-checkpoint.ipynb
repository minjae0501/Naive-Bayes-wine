{
 "cells": [
  {
   "cell_type": "code",
   "execution_count": 2,
   "id": "53c657b4",
   "metadata": {},
   "outputs": [],
   "source": [
    "import numpy as np\n",
    "import pandas as pd"
   ]
  },
  {
   "cell_type": "code",
   "execution_count": 3,
   "id": "7edb09a7",
   "metadata": {
    "scrolled": true
   },
   "outputs": [
    {
     "data": {
      "text/plain": [
       "Class                             int64\n",
       "Alcohol                         float64\n",
       "Malic acid                      float64\n",
       "Ash                             float64\n",
       "Alcalinity of ash               float64\n",
       "Magnesium                         int64\n",
       "Total phenols                   float64\n",
       "Flavanoids                      float64\n",
       "Nonflavanoid phenols            float64\n",
       "Proanthocyanins                 float64\n",
       "Color intensity                 float64\n",
       "Hue                             float64\n",
       "OD280/OD315 of diluted wines    float64\n",
       "Proline                           int64\n",
       "dtype: object"
      ]
     },
     "execution_count": 3,
     "metadata": {},
     "output_type": "execute_result"
    }
   ],
   "source": [
    "# wine 데이터 불러오고 타입 확인하기\n",
    "columns = [\"Class\",\"Alcohol\",\"Malic acid\",\"Ash\",\"Alcalinity of ash\",\"Magnesium\",\"Total phenols\",\"Flavanoids\",\"Nonflavanoid phenols\",\"Proanthocyanins\",\"Color intensity\",\"Hue\",\"OD280/OD315 of diluted wines\",\"Proline\"]\n",
    "data = pd.read_csv(\"data/wine.data.csv\", names= columns)\n",
    "data.count()\n",
    "data.dtypes"
   ]
  },
  {
   "cell_type": "code",
   "execution_count": 22,
   "id": "7108c86f",
   "metadata": {},
   "outputs": [
    {
     "name": "stdout",
     "output_type": "stream",
     "text": [
      "0.33146067415730335 / 0.398876404494382 / 0.2696629213483146\n"
     ]
    }
   ],
   "source": [
    "# class Prior Probability: P(c)\n",
    "n_class1 = data['Class'][data['Class'] == 1].count()\n",
    "n_class2 = data['Class'][data['Class'] == 2].count()\n",
    "n_class3 = data['Class'][data['Class'] == 3].count()\n",
    "total = data['Class'].count()\n",
    "\n",
    "P_class1 = n_class1/total\n",
    "P_class2 = n_class2/total\n",
    "P_class3 = n_class3/total\n",
    "print(P_class1,\"/\",P_class2,\"/\",P_class3)"
   ]
  },
  {
   "cell_type": "code",
   "execution_count": 27,
   "id": "ca9693a0",
   "metadata": {},
   "outputs": [
    {
     "data": {
      "text/html": [
       "<div>\n",
       "<style scoped>\n",
       "    .dataframe tbody tr th:only-of-type {\n",
       "        vertical-align: middle;\n",
       "    }\n",
       "\n",
       "    .dataframe tbody tr th {\n",
       "        vertical-align: top;\n",
       "    }\n",
       "\n",
       "    .dataframe thead th {\n",
       "        text-align: right;\n",
       "    }\n",
       "</style>\n",
       "<table border=\"1\" class=\"dataframe\">\n",
       "  <thead>\n",
       "    <tr style=\"text-align: right;\">\n",
       "      <th></th>\n",
       "      <th>Alcohol</th>\n",
       "      <th>Malic acid</th>\n",
       "      <th>Ash</th>\n",
       "      <th>Alcalinity of ash</th>\n",
       "      <th>Magnesium</th>\n",
       "      <th>Total phenols</th>\n",
       "      <th>Flavanoids</th>\n",
       "      <th>Nonflavanoid phenols</th>\n",
       "      <th>Proanthocyanins</th>\n",
       "      <th>Color intensity</th>\n",
       "      <th>Hue</th>\n",
       "      <th>OD280/OD315 of diluted wines</th>\n",
       "      <th>Proline</th>\n",
       "    </tr>\n",
       "    <tr>\n",
       "      <th>Class</th>\n",
       "      <th></th>\n",
       "      <th></th>\n",
       "      <th></th>\n",
       "      <th></th>\n",
       "      <th></th>\n",
       "      <th></th>\n",
       "      <th></th>\n",
       "      <th></th>\n",
       "      <th></th>\n",
       "      <th></th>\n",
       "      <th></th>\n",
       "      <th></th>\n",
       "      <th></th>\n",
       "    </tr>\n",
       "  </thead>\n",
       "  <tbody>\n",
       "    <tr>\n",
       "      <th>1</th>\n",
       "      <td>13.744746</td>\n",
       "      <td>2.010678</td>\n",
       "      <td>2.455593</td>\n",
       "      <td>17.037288</td>\n",
       "      <td>106.338983</td>\n",
       "      <td>2.840169</td>\n",
       "      <td>2.982373</td>\n",
       "      <td>0.290000</td>\n",
       "      <td>1.899322</td>\n",
       "      <td>5.528305</td>\n",
       "      <td>1.062034</td>\n",
       "      <td>3.157797</td>\n",
       "      <td>1115.711864</td>\n",
       "    </tr>\n",
       "    <tr>\n",
       "      <th>2</th>\n",
       "      <td>12.278732</td>\n",
       "      <td>1.932676</td>\n",
       "      <td>2.244789</td>\n",
       "      <td>20.238028</td>\n",
       "      <td>94.549296</td>\n",
       "      <td>2.258873</td>\n",
       "      <td>2.080845</td>\n",
       "      <td>0.363662</td>\n",
       "      <td>1.630282</td>\n",
       "      <td>3.086620</td>\n",
       "      <td>1.056282</td>\n",
       "      <td>2.785352</td>\n",
       "      <td>519.507042</td>\n",
       "    </tr>\n",
       "    <tr>\n",
       "      <th>3</th>\n",
       "      <td>13.153750</td>\n",
       "      <td>3.333750</td>\n",
       "      <td>2.437083</td>\n",
       "      <td>21.416667</td>\n",
       "      <td>99.312500</td>\n",
       "      <td>1.678750</td>\n",
       "      <td>0.781458</td>\n",
       "      <td>0.447500</td>\n",
       "      <td>1.153542</td>\n",
       "      <td>7.396250</td>\n",
       "      <td>0.682708</td>\n",
       "      <td>1.683542</td>\n",
       "      <td>629.895833</td>\n",
       "    </tr>\n",
       "  </tbody>\n",
       "</table>\n",
       "</div>"
      ],
      "text/plain": [
       "         Alcohol  Malic acid       Ash  Alcalinity of ash   Magnesium  \\\n",
       "Class                                                                   \n",
       "1      13.744746    2.010678  2.455593          17.037288  106.338983   \n",
       "2      12.278732    1.932676  2.244789          20.238028   94.549296   \n",
       "3      13.153750    3.333750  2.437083          21.416667   99.312500   \n",
       "\n",
       "       Total phenols  Flavanoids  Nonflavanoid phenols  Proanthocyanins  \\\n",
       "Class                                                                     \n",
       "1           2.840169    2.982373              0.290000         1.899322   \n",
       "2           2.258873    2.080845              0.363662         1.630282   \n",
       "3           1.678750    0.781458              0.447500         1.153542   \n",
       "\n",
       "       Color intensity       Hue  OD280/OD315 of diluted wines      Proline  \n",
       "Class                                                                        \n",
       "1             5.528305  1.062034                      3.157797  1115.711864  \n",
       "2             3.086620  1.056282                      2.785352   519.507042  \n",
       "3             7.396250  0.682708                      1.683542   629.895833  "
      ]
     },
     "execution_count": 27,
     "metadata": {},
     "output_type": "execute_result"
    }
   ],
   "source": [
    "# 클래스별 평균, 분산 구하기\n",
    "data_means = data.groupby('Class').mean()\n",
    "data_variance = data.groupby('Class').var()\n",
    "\n",
    "data_means"
   ]
  },
  {
   "cell_type": "code",
   "execution_count": 52,
   "id": "c64caf17",
   "metadata": {},
   "outputs": [],
   "source": [
    "# Class별 평균, 분산 할당\n",
    "# class1 columns means\n",
    "class1_Alcohol_mean = data_means['Alcohol'][data_means.index == 1].values[0]\n",
    "class1_Malic_acid_mean = data_means['Malic acid'][data_means.index == 1].values[0]\n",
    "class1_Ash_mean = data_means['Ash'][data_means.index == 1].values[0]\n",
    "class1_Alcalinity_of_ash_mean = data_means['Alcalinity of ash'][data_means.index == 1].values[0]\n",
    "class1_Magnesium_mean = data_means['Magnesium'][data_means.index == 1].values[0]\n",
    "class1_Total_phenols_mean = data_means['Total phenols'][data_means.index == 1].values[0]\n",
    "class1_Flavanoids_mean = data_means['Flavanoids'][data_means.index == 1].values[0]\n",
    "class1_Nonflavanoid_phenols_mean = data_means['Nonflavanoid phenols'][data_means.index == 1].values[0]\n",
    "class1_Proanthocyanins_mean = data_means['Proanthocyanins'][data_means.index == 1].values[0]\n",
    "class1_Color_intensity_mean = data_means['Color intensity'][data_means.index == 1].values[0]\n",
    "class1_Hue_mean = data_means['Hue'][data_means.index == 1].values[0]\n",
    "class1_diluted_wines_mean = data_means['OD280/OD315 of diluted wines'][data_means.index == 1].values[0]\n",
    "class1_Proline_mean = data_means['Proline'][data_means.index == 1].values[0]\n",
    "\n",
    "#class1 columns variances\n",
    "class1_Alcohol_variance = data_variance['Alcohol'][data_variance.index == 1].values[0]\n",
    "class1_Malic_acid_variance= data_variance['Malic acid'][data_variance.index == 1].values[0]\n",
    "class1_Ash_variance = data_variance['Ash'][data_variance.index == 1].values[0]\n",
    "class1_Alcalinity_of_ash_variance = data_variance['Alcalinity of ash'][data_variance.index == 1].values[0]\n",
    "class1_Magnesium_variance = data_variance['Magnesium'][data_variance.index == 1].values[0]\n",
    "class1_Total_phenols_variance = data_variance['Total phenols'][data_variance.index == 1].values[0]\n",
    "class1_Flavanoids_variance = data_variance['Flavanoids'][data_variance.index == 1].values[0]\n",
    "class1_Nonflavanoid_phenols_variance = data_variance['Nonflavanoid phenols'][data_variance.index == 1].values[0]\n",
    "class1_Proanthocyanins_variance = data_variance['Proanthocyanins'][data_variance.index == 1].values[0]\n",
    "class1_Color_intensity_variance = data_variance['Color intensity'][data_variance.index == 1].values[0]\n",
    "class1_Hue_variance = data_variance['Hue'][data_variance.index == 1].values[0]\n",
    "class1_diluted_wines_variance = data_variance['OD280/OD315 of diluted wines'][data_variance.index == 1].values[0]\n",
    "class1_Proline_variance = data_variance['Proline'][data_variance.index == 1].values[0]\n",
    "\n",
    "# class2 columns means\n",
    "class2_Alcohol_mean = data_means['Alcohol'][data_means.index == 2].values[0]\n",
    "class2_Malic_acid_mean = data_means['Malic acid'][data_means.index == 2].values[0]\n",
    "class2_Ash_mean = data_means['Ash'][data_means.index == 2].values[0]\n",
    "class2_Alcalinity_of_ash_mean = data_means['Alcalinity of ash'][data_means.index == 2].values[0]\n",
    "class2_Magnesium_mean = data_means['Magnesium'][data_means.index == 2].values[0]\n",
    "class2_Total_phenols_mean = data_means['Total phenols'][data_means.index == 2].values[0]\n",
    "class2_Flavanoids_mean = data_means['Flavanoids'][data_means.index == 2].values[0]\n",
    "class2_Nonflavanoid_phenols_mean = data_means['Nonflavanoid phenols'][data_means.index == 2].values[0]\n",
    "class2_Proanthocyanins_mean = data_means['Proanthocyanins'][data_means.index == 2].values[0]\n",
    "class2_Color_intensity_mean = data_means['Color intensity'][data_means.index == 2].values[0]\n",
    "class2_Hue_mean = data_means['Hue'][data_means.index == 2].values[0]\n",
    "class2_diluted_wines_mean = data_means['OD280/OD315 of diluted wines'][data_means.index == 2].values[0]\n",
    "class2_Proline_mean = data_means['Proline'][data_means.index == 2].values[0]\n",
    "\n",
    "#class2 columns variances\n",
    "class2_Alcohol_variance = data_variance['Alcohol'][data_variance.index == 2].values[0]\n",
    "class2_Malic_acid_variance= data_variance['Malic acid'][data_variance.index == 2].values[0]\n",
    "class2_Ash_variance = data_variance['Ash'][data_variance.index == 2].values[0]\n",
    "class2_Alcalinity_of_ash_variance = data_variance['Alcalinity of ash'][data_variance.index == 2].values[0]\n",
    "class2_Magnesium_variance = data_variance['Magnesium'][data_variance.index == 2].values[0]\n",
    "class2_Total_phenols_variance = data_variance['Total phenols'][data_variance.index == 2].values[0]\n",
    "class2_Flavanoids_variance = data_variance['Flavanoids'][data_variance.index == 2].values[0]\n",
    "class2_Nonflavanoid_phenols_variance = data_variance['Nonflavanoid phenols'][data_variance.index == 2].values[0]\n",
    "class2_Proanthocyanins_variance = data_variance['Proanthocyanins'][data_variance.index == 2].values[0]\n",
    "class2_Color_intensity_variance = data_variance['Color intensity'][data_variance.index == 2].values[0]\n",
    "class2_Hue_variance = data_variance['Hue'][data_variance.index == 2].values[0]\n",
    "class2_diluted_wines_variance = data_variance['OD280/OD315 of diluted wines'][data_variance.index == 2].values[0]\n",
    "class2_Proline_variance = data_variance['Proline'][data_variance.index == 2].values[0]\n",
    "\n",
    "# class3 columns means\n",
    "class3_Alcohol_mean = data_means['Alcohol'][data_means.index == 3].values[0]\n",
    "class3_Malic_acid_mean = data_means['Malic acid'][data_means.index == 3].values[0]\n",
    "class3_Ash_mean = data_means['Ash'][data_means.index == 3].values[0]\n",
    "class3_Alcalinity_of_ash_mean = data_means['Alcalinity of ash'][data_means.index == 3].values[0]\n",
    "class3_Magnesium_mean = data_means['Magnesium'][data_means.index == 3].values[0]\n",
    "class3_Total_phenols_mean = data_means['Total phenols'][data_means.index == 3].values[0]\n",
    "class3_Flavanoids_mean = data_means['Flavanoids'][data_means.index == 3].values[0]\n",
    "class3_Nonflavanoid_phenols_mean = data_means['Nonflavanoid phenols'][data_means.index == 3].values[0]\n",
    "class3_Proanthocyanins_mean = data_means['Proanthocyanins'][data_means.index == 3].values[0]\n",
    "class3_Color_intensity_mean = data_means['Color intensity'][data_means.index == 3].values[0]\n",
    "class3_Hue_mean = data_means['Hue'][data_means.index == 3].values[0]\n",
    "class3_diluted_wines_mean = data_means['OD280/OD315 of diluted wines'][data_means.index == 3].values[0]\n",
    "class3_Proline_mean = data_means['Proline'][data_means.index == 3].values[0]\n",
    "\n",
    "#class3 columns variances\n",
    "class3_Alcohol_variance = data_variance['Alcohol'][data_variance.index == 3].values[0]\n",
    "class3_Malic_acid_variance= data_variance['Malic acid'][data_variance.index == 3].values[0]\n",
    "class3_Ash_variance = data_variance['Ash'][data_variance.index == 3].values[0]\n",
    "class3_Alcalinity_of_ash_variance = data_variance['Alcalinity of ash'][data_variance.index == 3].values[0]\n",
    "class3_Magnesium_variance = data_variance['Magnesium'][data_variance.index == 3].values[0]\n",
    "class3_Total_phenols_variance = data_variance['Total phenols'][data_variance.index == 3].values[0]\n",
    "class3_Flavanoids_variance = data_variance['Flavanoids'][data_variance.index == 3].values[0]\n",
    "class3_Nonflavanoid_phenols_variance = data_variance['Nonflavanoid phenols'][data_variance.index == 3].values[0]\n",
    "class3_Proanthocyanins_variance = data_variance['Proanthocyanins'][data_variance.index == 3].values[0]\n",
    "class3_Color_intensity_variance = data_variance['Color intensity'][data_variance.index == 3].values[0]\n",
    "class3_Hue_variance = data_variance['Hue'][data_variance.index == 3].values[0]\n",
    "class3_diluted_wines_variance = data_variance['OD280/OD315 of diluted wines'][data_variance.index == 3].values[0]\n",
    "class3_Proline_variance = data_variance['Proline'][data_variance.index == 3].values[0]"
   ]
  },
  {
   "cell_type": "code",
   "execution_count": 53,
   "id": "853f201b",
   "metadata": {},
   "outputs": [
    {
     "data": {
      "text/html": [
       "<div>\n",
       "<style scoped>\n",
       "    .dataframe tbody tr th:only-of-type {\n",
       "        vertical-align: middle;\n",
       "    }\n",
       "\n",
       "    .dataframe tbody tr th {\n",
       "        vertical-align: top;\n",
       "    }\n",
       "\n",
       "    .dataframe thead th {\n",
       "        text-align: right;\n",
       "    }\n",
       "</style>\n",
       "<table border=\"1\" class=\"dataframe\">\n",
       "  <thead>\n",
       "    <tr style=\"text-align: right;\">\n",
       "      <th></th>\n",
       "      <th>Alcohol</th>\n",
       "      <th>Malic acid</th>\n",
       "      <th>Ash</th>\n",
       "      <th>Alcalinity of ash</th>\n",
       "      <th>Magnesium</th>\n",
       "      <th>Flavanoids</th>\n",
       "      <th>Total phenols</th>\n",
       "      <th>Nonflavanoid phenols</th>\n",
       "      <th>Proanthocyanins</th>\n",
       "      <th>Color intensity</th>\n",
       "      <th>Hue</th>\n",
       "      <th>OD280/OD315 of diluted wines</th>\n",
       "      <th>Proline</th>\n",
       "    </tr>\n",
       "  </thead>\n",
       "  <tbody>\n",
       "    <tr>\n",
       "      <th>0</th>\n",
       "      <td>14.13</td>\n",
       "      <td>4.1</td>\n",
       "      <td>2.74</td>\n",
       "      <td>24.5</td>\n",
       "      <td>96</td>\n",
       "      <td>2.05</td>\n",
       "      <td>0.76</td>\n",
       "      <td>0.56</td>\n",
       "      <td>1.35</td>\n",
       "      <td>9.2</td>\n",
       "      <td>0.61</td>\n",
       "      <td>1.6</td>\n",
       "      <td>560</td>\n",
       "    </tr>\n",
       "  </tbody>\n",
       "</table>\n",
       "</div>"
      ],
      "text/plain": [
       "   Alcohol  Malic acid   Ash  Alcalinity of ash  Magnesium  Flavanoids  \\\n",
       "0    14.13         4.1  2.74               24.5         96        2.05   \n",
       "\n",
       "   Total phenols  Nonflavanoid phenols  Proanthocyanins  Color intensity  \\\n",
       "0           0.76                  0.56             1.35              9.2   \n",
       "\n",
       "    Hue  OD280/OD315 of diluted wines  Proline  \n",
       "0  0.61                           1.6      560  "
      ]
     },
     "execution_count": 53,
     "metadata": {},
     "output_type": "execute_result"
    }
   ],
   "source": [
    "# 예측하고자하는 데이터 만들기\n",
    "wine = pd.DataFrame()\n",
    "\n",
    "wine['Alcohol'] = [14.13]\n",
    "wine['Malic acid'] = [4.1]\n",
    "wine['Ash'] = [2.74]\n",
    "wine['Alcalinity of ash'] = [24.5]\n",
    "wine['Magnesium'] = [96]\n",
    "wine['Flavanoids'] = [2.05]\n",
    "wine['Total phenols'] = [0.76]\n",
    "wine['Nonflavanoid phenols'] = [0.56]\n",
    "wine['Proanthocyanins'] = [1.35]\n",
    "wine['Color intensity']=[9.2]\n",
    "wine['Hue']=[0.61]\n",
    "wine['OD280/OD315 of diluted wines']=[1.6]\n",
    "wine['Proline']= [560]\n",
    "\n",
    "#데이터 확인\n",
    "wine"
   ]
  },
  {
   "cell_type": "code",
   "execution_count": 54,
   "id": "1b917c91",
   "metadata": {},
   "outputs": [],
   "source": [
    "#PDF구하는 함수 작성: P(Xn|c)\n",
    "def p_x_given_y(x, mean_y, variance_y):\n",
    "    p = 1/(np.sqrt(2*np.pi*variance_y)) * np.exp((-(x-mean_y)**2)/(2*variance_y))\n",
    "    return p"
   ]
  },
  {
   "cell_type": "code",
   "execution_count": 57,
   "id": "6ceb438d",
   "metadata": {},
   "outputs": [
    {
     "data": {
      "text/plain": [
       "1.478605516683235e-33"
      ]
     },
     "execution_count": 57,
     "metadata": {},
     "output_type": "execute_result"
    }
   ],
   "source": [
    "# Class1 검증: P(c) * P(X|c)\n",
    "d_class1 = P_class1 * \\\n",
    "p_x_given_y(wine['Alcohol'][0], class1_Alcohol_mean, class1_Alcohol_variance) * \\\n",
    "p_x_given_y(wine['Malic acid'][0], class1_Malic_acid_mean, class1_Malic_acid_variance) * \\\n",
    "p_x_given_y(wine['Ash'][0], class1_Ash_mean, class1_Ash_variance) * \\\n",
    "p_x_given_y(wine['Alcalinity of ash'][0], class1_Alcalinity_of_ash_mean, class1_Alcalinity_of_ash_variance) * \\\n",
    "p_x_given_y(wine['Magnesium'][0], class1_Magnesium_mean, class1_Magnesium_variance) * \\\n",
    "p_x_given_y(wine['Flavanoids'][0], class1_Flavanoids_mean, class1_Flavanoids_variance) * \\\n",
    "p_x_given_y(wine['Total phenols'][0], class1_Total_phenols_mean, class1_Total_phenols_variance) * \\\n",
    "p_x_given_y(wine['Nonflavanoid phenols'][0], class1_Nonflavanoid_phenols_mean, class1_Nonflavanoid_phenols_variance) * \\\n",
    "p_x_given_y(wine['Proanthocyanins'][0], class1_Proanthocyanins_mean, class1_Proanthocyanins_variance) * \\\n",
    "p_x_given_y(wine['Color intensity'][0], class1_Color_intensity_mean, class1_Color_intensity_variance) * \\\n",
    "p_x_given_y(wine['Hue'][0], class1_Hue_mean, class1_Hue_variance) * \\\n",
    "p_x_given_y(wine['OD280/OD315 of diluted wines'][0], class1_diluted_wines_mean, class1_diluted_wines_variance) * \\\n",
    "p_x_given_y(wine['Proline'][0], class1_Proline_mean, class1_Proline_variance)\n",
    "d_class1"
   ]
  },
  {
   "cell_type": "code",
   "execution_count": 59,
   "id": "9a2213eb",
   "metadata": {},
   "outputs": [
    {
     "data": {
      "text/plain": [
       "2.1553758947404535e-25"
      ]
     },
     "execution_count": 59,
     "metadata": {},
     "output_type": "execute_result"
    }
   ],
   "source": [
    "# Class2 검증\n",
    "d_class2 = P_class2 * \\\n",
    "p_x_given_y(wine['Alcohol'][0], class2_Alcohol_mean, class2_Alcohol_variance) * \\\n",
    "p_x_given_y(wine['Malic acid'][0], class2_Malic_acid_mean, class2_Malic_acid_variance) * \\\n",
    "p_x_given_y(wine['Ash'][0], class2_Ash_mean, class2_Ash_variance) * \\\n",
    "p_x_given_y(wine['Alcalinity of ash'][0], class2_Alcalinity_of_ash_mean, class2_Alcalinity_of_ash_variance) * \\\n",
    "p_x_given_y(wine['Magnesium'][0], class2_Magnesium_mean, class2_Magnesium_variance) * \\\n",
    "p_x_given_y(wine['Flavanoids'][0], class2_Flavanoids_mean, class2_Flavanoids_variance) * \\\n",
    "p_x_given_y(wine['Total phenols'][0], class2_Total_phenols_mean, class2_Total_phenols_variance) * \\\n",
    "p_x_given_y(wine['Nonflavanoid phenols'][0], class2_Nonflavanoid_phenols_mean, class2_Nonflavanoid_phenols_variance) * \\\n",
    "p_x_given_y(wine['Proanthocyanins'][0], class2_Proanthocyanins_mean, class2_Proanthocyanins_variance) * \\\n",
    "p_x_given_y(wine['Color intensity'][0], class2_Color_intensity_mean, class2_Color_intensity_variance) * \\\n",
    "p_x_given_y(wine['Hue'][0], class2_Hue_mean, class2_Hue_variance) * \\\n",
    "p_x_given_y(wine['OD280/OD315 of diluted wines'][0], class2_diluted_wines_mean, class2_diluted_wines_variance) * \\\n",
    "p_x_given_y(wine['Proline'][0], class2_Proline_mean, class2_Proline_variance)\n",
    "d_class2"
   ]
  },
  {
   "cell_type": "code",
   "execution_count": 60,
   "id": "3822888b",
   "metadata": {
    "scrolled": true
   },
   "outputs": [
    {
     "data": {
      "text/plain": [
       "1.9224027187842964e-13"
      ]
     },
     "execution_count": 60,
     "metadata": {},
     "output_type": "execute_result"
    }
   ],
   "source": [
    "# Class3 검증\n",
    "d_class3 = P_class3 * \\\n",
    "p_x_given_y(wine['Alcohol'][0], class3_Alcohol_mean, class3_Alcohol_variance) * \\\n",
    "p_x_given_y(wine['Malic acid'][0], class3_Malic_acid_mean, class3_Malic_acid_variance) * \\\n",
    "p_x_given_y(wine['Ash'][0], class3_Ash_mean, class3_Ash_variance) * \\\n",
    "p_x_given_y(wine['Alcalinity of ash'][0], class3_Alcalinity_of_ash_mean, class3_Alcalinity_of_ash_variance) * \\\n",
    "p_x_given_y(wine['Magnesium'][0], class3_Magnesium_mean, class3_Magnesium_variance) * \\\n",
    "p_x_given_y(wine['Flavanoids'][0], class3_Flavanoids_mean, class3_Flavanoids_variance) * \\\n",
    "p_x_given_y(wine['Total phenols'][0], class3_Total_phenols_mean, class3_Total_phenols_variance) * \\\n",
    "p_x_given_y(wine['Nonflavanoid phenols'][0], class3_Nonflavanoid_phenols_mean, class3_Nonflavanoid_phenols_variance) * \\\n",
    "p_x_given_y(wine['Proanthocyanins'][0], class3_Proanthocyanins_mean, class3_Proanthocyanins_variance) * \\\n",
    "p_x_given_y(wine['Color intensity'][0], class3_Color_intensity_mean, class3_Color_intensity_variance) * \\\n",
    "p_x_given_y(wine['Hue'][0], class3_Hue_mean, class3_Hue_variance) * \\\n",
    "p_x_given_y(wine['OD280/OD315 of diluted wines'][0], class3_diluted_wines_mean, class3_diluted_wines_variance) * \\\n",
    "p_x_given_y(wine['Proline'][0], class3_Proline_mean, class3_Proline_variance)\n",
    "d_class3"
   ]
  },
  {
   "cell_type": "code",
   "execution_count": 61,
   "id": "fc00e0b6",
   "metadata": {},
   "outputs": [
    {
     "data": {
      "text/plain": [
       "1.9224027187842964e-13"
      ]
     },
     "execution_count": 61,
     "metadata": {},
     "output_type": "execute_result"
    }
   ],
   "source": [
    "# Class1,2,3중 Class3일 가능성이 가장 높게 나타남\n",
    "max(d_class1,d_class2,d_class3)"
   ]
  },
  {
   "cell_type": "markdown",
   "id": "0e4bad2a",
   "metadata": {},
   "source": [
    "# sklearn을 사용한 Naive Bayes"
   ]
  },
  {
   "cell_type": "code",
   "execution_count": 135,
   "id": "77a90b01",
   "metadata": {},
   "outputs": [],
   "source": [
    "from sklearn.model_selection import train_test_split\n",
    "from sklearn.naive_bayes import GaussianNB\n",
    "from sklearn.metrics import accuracy_score,classification_report\n",
    "\n",
    "# 독립, 종속 변수 나누기\n",
    "X = data.iloc[:,1:]\n",
    "y = data.iloc[:,0]"
   ]
  },
  {
   "cell_type": "code",
   "execution_count": 136,
   "id": "809c546d",
   "metadata": {},
   "outputs": [],
   "source": [
    "#학습, 검증 데이터 나누기\n",
    "X_train, X_test, y_train, y_test = train_test_split(X,y, \n",
    "                                                test_size=0.3, random_state=10)"
   ]
  },
  {
   "cell_type": "code",
   "execution_count": 137,
   "id": "21351ec9",
   "metadata": {},
   "outputs": [
    {
     "data": {
      "text/plain": [
       "0.9919354838709677"
      ]
     },
     "execution_count": 137,
     "metadata": {},
     "output_type": "execute_result"
    }
   ],
   "source": [
    "#GaussianNB 학습\n",
    "model = GaussianNB().fit(X_train,y_train)\n",
    "model.score(X_train,y_train)"
   ]
  },
  {
   "cell_type": "code",
   "execution_count": 138,
   "id": "465153fd",
   "metadata": {
    "scrolled": true
   },
   "outputs": [
    {
     "data": {
      "text/plain": [
       "0.8888888888888888"
      ]
     },
     "execution_count": 138,
     "metadata": {},
     "output_type": "execute_result"
    }
   ],
   "source": [
    "#GaussianNB 검증\n",
    "pre_y = model.predict(X_test)\n",
    "accuracy_score = accuracy_score(y_test, pre_y)\n",
    "accuracy_score"
   ]
  },
  {
   "cell_type": "code",
   "execution_count": 140,
   "id": "c4c40992",
   "metadata": {},
   "outputs": [
    {
     "name": "stdout",
     "output_type": "stream",
     "text": [
      "[3]\n"
     ]
    },
    {
     "name": "stderr",
     "output_type": "stream",
     "text": [
      "C:\\Users\\qnwje\\AppData\\Roaming\\Python\\Python38\\site-packages\\sklearn\\base.py:493: FutureWarning: The feature names should match those that were passed during fit. Starting version 1.2, an error will be raised.\n",
      "Feature names must be in the same order as they were in fit.\n",
      "\n",
      "  warnings.warn(message, FutureWarning)\n"
     ]
    }
   ],
   "source": [
    "print(model.predict(wine))"
   ]
  }
 ],
 "metadata": {
  "kernelspec": {
   "display_name": "Python 3 (ipykernel)",
   "language": "python",
   "name": "python3"
  },
  "language_info": {
   "codemirror_mode": {
    "name": "ipython",
    "version": 3
   },
   "file_extension": ".py",
   "mimetype": "text/x-python",
   "name": "python",
   "nbconvert_exporter": "python",
   "pygments_lexer": "ipython3",
   "version": "3.8.5"
  }
 },
 "nbformat": 4,
 "nbformat_minor": 5
}
